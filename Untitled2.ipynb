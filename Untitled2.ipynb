{
  "metadata": {
    "language_info": {
      "codemirror_mode": {
        "name": "python",
        "version": 3
      },
      "file_extension": ".py",
      "mimetype": "text/x-python",
      "name": "python",
      "nbconvert_exporter": "python",
      "pygments_lexer": "ipython3",
      "version": "3.8"
    },
    "kernelspec": {
      "name": "python",
      "display_name": "Python (Pyodide)",
      "language": "python"
    }
  },
  "nbformat_minor": 4,
  "nbformat": 4,
  "cells": [
    {
      "cell_type": "markdown",
      "source": "1  посчитать кол во символов ",
      "metadata": {}
    },
    {
      "cell_type": "code",
      "source": "s=('')\nprint(len(s))",
      "metadata": {
        "trusted": true
      },
      "execution_count": 1,
      "outputs": [
        {
          "name": "stdout",
          "text": "0\n",
          "output_type": "stream"
        }
      ]
    },
    {
      "cell_type": "raw",
      "source": "2 слово в обратном порядке",
      "metadata": {}
    },
    {
      "cell_type": "raw",
      "source": "s=input('')\nprint(s[::-1])\n",
      "metadata": {}
    },
    {
      "cell_type": "code",
      "source": "3 числа в обратном порядке",
      "metadata": {},
      "execution_count": null,
      "outputs": []
    },
    {
      "cell_type": "code",
      "source": "s=input('')\nprint(s[::-1])",
      "metadata": {},
      "execution_count": null,
      "outputs": []
    },
    {
      "cell_type": "raw",
      "source": "4 логин",
      "metadata": {}
    },
    {
      "cell_type": "code",
      "source": "s=input('')\na=''\ni=s.find(\"@\")\nprint(s[:i])",
      "metadata": {},
      "execution_count": null,
      "outputs": []
    },
    {
      "cell_type": "raw",
      "source": "5 номер без ()",
      "metadata": {}
    },
    {
      "cell_type": "code",
      "source": "s=input()\na=''\nfor i in s:\n    if i.isdecimal():\n        a=a+i\n\nprint(a)\n",
      "metadata": {},
      "execution_count": null,
      "outputs": []
    },
    {
      "cell_type": "raw",
      "source": "6 полиндром",
      "metadata": {}
    },
    {
      "cell_type": "code",
      "source": "",
      "metadata": {},
      "execution_count": null,
      "outputs": []
    },
    {
      "cell_type": "raw",
      "source": "7 из анлйского алфавита ",
      "metadata": {}
    },
    {
      "cell_type": "code",
      "source": "",
      "metadata": {},
      "execution_count": null,
      "outputs": []
    }
  ]
}