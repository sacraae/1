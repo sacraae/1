{
  "metadata": {
    "language_info": {
      "codemirror_mode": {
        "name": "python",
        "version": 3
      },
      "file_extension": ".py",
      "mimetype": "text/x-python",
      "name": "python",
      "nbconvert_exporter": "python",
      "pygments_lexer": "ipython3",
      "version": "3.8"
    },
    "kernelspec": {
      "name": "python",
      "display_name": "Python (Pyodide)",
      "language": "python"
    }
  },
  "nbformat_minor": 4,
  "nbformat": 4,
  "cells": [
    {
      "cell_type": "markdown",
      "source": "Вводится вектор. Вывести максимум из его элементов.\n",
      "metadata": {}
    },
    {
      "cell_type": "code",
      "source": "a=list(map(int, input().split()))\nprint(max(a))",
      "metadata": {},
      "execution_count": null,
      "outputs": []
    },
    {
      "cell_type": "markdown",
      "source": "вводится вектор. если в нем встречается число Фибоначчи заменить это число на следующее ",
      "metadata": {}
    },
    {
      "cell_type": "code",
      "source": "def fib(n):\n    a0=1\n    a1=1\n    while a1<=n:\n        a2=a0+a1\n        a0,a1=a1,a2\n        return[a0,a1]\nstr_s=input()\ns=str_s.split()\nfor i in range(len(s)):\n    x=int(s[i])\n    f=fib(x)\n    if x==f[0]:\n        s[i]=str(f[1])\n print(' '.join(s))   ",
      "metadata": {},
      "execution_count": null,
      "outputs": []
    },
    {
      "cell_type": "markdown",
      "source": "Напишите программу, которая помогает определить какие вещи могут поместиться в рюкзак. Вводится существующий объем рюкзака. Затем вводятся объемы всех вещей, которые хочется туда поместить. Нужно вывести список объемов вещей, которые поместятся в рюкзак. Постарайтесь максимизировать кол-во вошедших вещей.",
      "metadata": {}
    },
    {
      "cell_type": "code",
      "source": "n = int(input())  # n - общий объем рюкзака\na = 0             # a - объем который уже занят\ne = 0             # e - обьем следующей \nc=list()          # c - пустой список\nwhile a <= n:\n    e = int(input())\n    a += e\n    c=list(append(c))\nprint(c)",
      "metadata": {},
      "execution_count": null,
      "outputs": []
    },
    {
      "cell_type": "markdown",
      "source": "Данные об email-адресах студентов хранятся в словаре: {домен:логины} . Нужно дополнить код таким образом, чтобы он вывел все адреса в алфавитном порядке и в формате имя_пользователя@домен",
      "metadata": {}
    },
    {
      "cell_type": "code",
      "source": "emails=...\nprint(*sorted({i + '@' + k for k, v in emails.items() for i in v}), sep = '\\n')",
      "metadata": {},
      "execution_count": null,
      "outputs": []
    }
  ]
}